{
 "cells": [
  {
   "cell_type": "markdown",
   "id": "c9855755",
   "metadata": {},
   "source": [
    "Term Frequency Inverse Document Frequency (TFIDF) analysis is one of the simple and robust methods to understand the context of a text. \n",
    "\n",
    "Term Frequency and Inverse Document Frequency is used to find the related content and important words and phrases in a larger text. Implementing TF-IDF analysis is very easy using Python. \n",
    "\n",
    "Computers cannot understand the meaning of a text, but they can understand numbers. The words can be converted to numbers so that the relationship between them can be understood.\n"
   ]
  },
  {
   "cell_type": "markdown",
   "id": "2a748855",
   "metadata": {},
   "source": [
    "### Term Frequency:\n",
    "\n",
    "The term is frequency measure of a word w in a document (text) d. \n",
    "\n",
    "It is equal to the number of instances of word w in document d divided by the total number of words in document d. \n",
    "\n",
    "Term frequency serves as a metric to determine a word’s occurrence in a document as compared to the total number of words in a document. The denominator is always the same."
   ]
  },
  {
   "cell_type": "markdown",
   "id": "43f8d8d0",
   "metadata": {},
   "source": [
    "<img decoding=\"async\" loading=\"lazy\" class=\"alignnone\" src=\"https://editor.analyticsvidhya.com/uploads/27405Screenshot_1.jpg\" alt=\"term frequency | Reviews Classifier Using TF-IDF\" width=\"773\" height=\"102\">"
   ]
  },
  {
   "cell_type": "markdown",
   "id": "81faf001",
   "metadata": {},
   "source": [
    "### Inverse Document Frequency (IDF)\n",
    "\n",
    "This parameter gives a numeric value of the importance of a word. \n",
    "\n",
    "Inverse Document frequency of word w is defined as the total number of documents (N) in a text corpus D, divided by the number of documents containing w."
   ]
  },
  {
   "cell_type": "markdown",
   "id": "d34921e8",
   "metadata": {},
   "source": [
    "<img decoding=\"async\" loading=\"lazy\" class=\"alignnone\" src=\"https://editor.analyticsvidhya.com/uploads/80300Screenshot_2.jpg\" alt=\"Inverse document frequency\" width=\"760\" height=\"86\">"
   ]
  },
  {
   "cell_type": "markdown",
   "id": "56c63954",
   "metadata": {},
   "source": [
    "The product of TF and IDF is the TF-IDF. TF-IDF is usually one of the best metrics to determine if a term is significant to a text. It represents the importance of a word in a particular document."
   ]
  },
  {
   "cell_type": "markdown",
   "id": "38abfd16",
   "metadata": {},
   "source": [
    "**Term Frequency**\n",
    "\n",
    "**Sentence-1**\n",
    "\n",
    "- good movie\n",
    "\n",
    "**Sentence-2**\n",
    "\n",
    "- good snacks\n",
    "\n",
    "**Sentence-3**\n",
    "\n",
    "- movie snacks good\n",
    "\n",
    "\n",
    "|vocab|Sentence-1|Sentence-2|Sentence-3|\n",
    "|--------|-----|---|----|\n",
    "|good|1/2|1/2|1/3|\n",
    "|movie|1/2|0/2|1/3|\n",
    "|snacks|0/2|1/2|1/3|"
   ]
  },
  {
   "cell_type": "markdown",
   "id": "212e1ed5",
   "metadata": {},
   "source": [
    "**Inverse document frequency**\n",
    "\n",
    "\n",
    "|vocab|Idf|\n",
    "|-----|---|\n",
    "|good|loge(3/3)|\n",
    "|movie|loge(3/2)|\n",
    "|snacks|loge(3/2)|"
   ]
  },
  {
   "cell_type": "markdown",
   "id": "1b9d669d",
   "metadata": {},
   "source": [
    "**Term Frequency** * **Inverse document frequency**\n",
    "\n",
    "\n",
    "\n",
    "|Sentence|good|movie|Snacks|\n",
    "|--------|-----|---|----|\n",
    "|Sentence-1|1/2*0=0|1/2*loge(3/2)|0|\n",
    "|Sentence-2|1/2*0=0|0|1/2*loge(3/2)|\n",
    "|Sentence-3|1/3*0=0|1/3*loge(3/2)|1/3*loge(3/2)|\n",
    "\n",
    "\n",
    "|Sentence|good|movie|Snacks|\n",
    "|--------|-----|---|----|\n",
    "|Sentence-1|0|1/2*loge(3/2)|0|\n",
    "|Sentence-2|0|0|1/2*loge(3/2)|\n",
    "|Sentence-3|0|1/3*loge(3/2)|1/3*loge(3/2)|\n",
    "\n",
    "\n",
    "\n",
    "> good is present in every sentence so the value becomes zero: less importance\n",
    "\n",
    "> movie is present in only two sentences\n"
   ]
  },
  {
   "cell_type": "markdown",
   "id": "ea2584c3",
   "metadata": {},
   "source": [
    "Let’s cover an example of 3 documents -\n",
    "\n",
    "Document 1   -         It is going to rain today.\n",
    "\n",
    "Document 2   -         Today I am not going outside.\n",
    "\n",
    "Document 3  -          I am going to watch the season premiere."
   ]
  },
  {
   "cell_type": "code",
   "execution_count": 1,
   "id": "3d12d88c",
   "metadata": {},
   "outputs": [],
   "source": [
    "d1='It is going to rain today'\n",
    "d2='Today I am not going outside'\n",
    "d3='I am going to watch the season premiere'\n",
    "\n",
    "l1=d1.split()\n",
    "l2=d2.split()\n",
    "l3=d3.split()\n",
    "val1=set(l1+l2+l3)"
   ]
  },
  {
   "cell_type": "code",
   "execution_count": 2,
   "id": "7b6ba64e",
   "metadata": {},
   "outputs": [
    {
     "data": {
      "text/plain": [
       "{'today': 0.17,\n",
       " 'am': 0,\n",
       " 'I': 0.17,\n",
       " 'It': 0.17,\n",
       " 'rain': 0.17,\n",
       " 'Today': 0,\n",
       " 'is': 0.17,\n",
       " 'to': 0.17,\n",
       " 'the': 0,\n",
       " 'not': 0,\n",
       " 'watch': 0,\n",
       " 'premiere': 0,\n",
       " 'going': 0.17,\n",
       " 'season': 0,\n",
       " 'outside': 0}"
      ]
     },
     "execution_count": 2,
     "metadata": {},
     "output_type": "execute_result"
    }
   ],
   "source": [
    "dict1={}\n",
    "for i in val1:\n",
    "    if i in d1:\n",
    "        dict1[i]=round(1/len(l1),2)\n",
    "        \n",
    "    else:\n",
    "        dict1[i]=0\n",
    "dict1        "
   ]
  },
  {
   "cell_type": "code",
   "execution_count": 3,
   "id": "cb4f0c72",
   "metadata": {},
   "outputs": [
    {
     "data": {
      "text/plain": [
       "{'today': 0.17,\n",
       " 'am': 0,\n",
       " 'I': 0.17,\n",
       " 'It': 0.17,\n",
       " 'rain': 0.17,\n",
       " 'Today': 0,\n",
       " 'is': 0.17,\n",
       " 'to': 0.17,\n",
       " 'the': 0,\n",
       " 'not': 0,\n",
       " 'watch': 0,\n",
       " 'premiere': 0,\n",
       " 'going': 0.17,\n",
       " 'season': 0,\n",
       " 'outside': 0}"
      ]
     },
     "execution_count": 3,
     "metadata": {},
     "output_type": "execute_result"
    }
   ],
   "source": [
    "dict2={}\n",
    "for i in val1:\n",
    "    if i in d1:\n",
    "        dict2[i]=round(1/len(l2),2)\n",
    "    else:\n",
    "        dict2[i]=0\n",
    "        \n",
    "dict2"
   ]
  },
  {
   "cell_type": "code",
   "execution_count": 4,
   "id": "d3163763",
   "metadata": {},
   "outputs": [
    {
     "data": {
      "text/plain": [
       "{'today': 0.12,\n",
       " 'am': 0,\n",
       " 'I': 0.12,\n",
       " 'It': 0.12,\n",
       " 'rain': 0.12,\n",
       " 'Today': 0,\n",
       " 'is': 0.12,\n",
       " 'to': 0.12,\n",
       " 'the': 0,\n",
       " 'not': 0,\n",
       " 'watch': 0,\n",
       " 'premiere': 0,\n",
       " 'going': 0.12,\n",
       " 'season': 0,\n",
       " 'outside': 0}"
      ]
     },
     "execution_count": 4,
     "metadata": {},
     "output_type": "execute_result"
    }
   ],
   "source": [
    "dict3={}\n",
    "for i in val1:\n",
    "    if i in d1:\n",
    "        dict3[i]=round(1/len(l3),2)\n",
    "    else:\n",
    "        dict3[i]=0\n",
    "        \n",
    "dict3"
   ]
  },
  {
   "cell_type": "code",
   "execution_count": 7,
   "id": "90c3bea1",
   "metadata": {},
   "outputs": [],
   "source": [
    "import pandas as pd\n",
    "import numpy as np\n",
    "df1=pd.DataFrame(dict1,index=['A'])\n",
    "df2=pd.DataFrame(dict2,index=['B'])\n",
    "df3=pd.DataFrame(dict3,index=['C'])"
   ]
  },
  {
   "cell_type": "code",
   "execution_count": 8,
   "id": "3687e9d4",
   "metadata": {},
   "outputs": [],
   "source": [
    "df4=pd.concat([df1,df2])"
   ]
  },
  {
   "cell_type": "code",
   "execution_count": 9,
   "id": "6262ad51",
   "metadata": {},
   "outputs": [],
   "source": [
    "df5=pd.concat([df3,df4])"
   ]
  },
  {
   "cell_type": "code",
   "execution_count": 10,
   "id": "ce26860f",
   "metadata": {},
   "outputs": [
    {
     "data": {
      "text/html": [
       "<div>\n",
       "<style scoped>\n",
       "    .dataframe tbody tr th:only-of-type {\n",
       "        vertical-align: middle;\n",
       "    }\n",
       "\n",
       "    .dataframe tbody tr th {\n",
       "        vertical-align: top;\n",
       "    }\n",
       "\n",
       "    .dataframe thead th {\n",
       "        text-align: right;\n",
       "    }\n",
       "</style>\n",
       "<table border=\"1\" class=\"dataframe\">\n",
       "  <thead>\n",
       "    <tr style=\"text-align: right;\">\n",
       "      <th></th>\n",
       "      <th>today</th>\n",
       "      <th>am</th>\n",
       "      <th>I</th>\n",
       "      <th>It</th>\n",
       "      <th>rain</th>\n",
       "      <th>Today</th>\n",
       "      <th>is</th>\n",
       "      <th>to</th>\n",
       "      <th>the</th>\n",
       "      <th>not</th>\n",
       "      <th>watch</th>\n",
       "      <th>premiere</th>\n",
       "      <th>going</th>\n",
       "      <th>season</th>\n",
       "      <th>outside</th>\n",
       "    </tr>\n",
       "  </thead>\n",
       "  <tbody>\n",
       "    <tr>\n",
       "      <th>C</th>\n",
       "      <td>0.12</td>\n",
       "      <td>0</td>\n",
       "      <td>0.12</td>\n",
       "      <td>0.12</td>\n",
       "      <td>0.12</td>\n",
       "      <td>0</td>\n",
       "      <td>0.12</td>\n",
       "      <td>0.12</td>\n",
       "      <td>0</td>\n",
       "      <td>0</td>\n",
       "      <td>0</td>\n",
       "      <td>0</td>\n",
       "      <td>0.12</td>\n",
       "      <td>0</td>\n",
       "      <td>0</td>\n",
       "    </tr>\n",
       "    <tr>\n",
       "      <th>A</th>\n",
       "      <td>0.17</td>\n",
       "      <td>0</td>\n",
       "      <td>0.17</td>\n",
       "      <td>0.17</td>\n",
       "      <td>0.17</td>\n",
       "      <td>0</td>\n",
       "      <td>0.17</td>\n",
       "      <td>0.17</td>\n",
       "      <td>0</td>\n",
       "      <td>0</td>\n",
       "      <td>0</td>\n",
       "      <td>0</td>\n",
       "      <td>0.17</td>\n",
       "      <td>0</td>\n",
       "      <td>0</td>\n",
       "    </tr>\n",
       "    <tr>\n",
       "      <th>B</th>\n",
       "      <td>0.17</td>\n",
       "      <td>0</td>\n",
       "      <td>0.17</td>\n",
       "      <td>0.17</td>\n",
       "      <td>0.17</td>\n",
       "      <td>0</td>\n",
       "      <td>0.17</td>\n",
       "      <td>0.17</td>\n",
       "      <td>0</td>\n",
       "      <td>0</td>\n",
       "      <td>0</td>\n",
       "      <td>0</td>\n",
       "      <td>0.17</td>\n",
       "      <td>0</td>\n",
       "      <td>0</td>\n",
       "    </tr>\n",
       "  </tbody>\n",
       "</table>\n",
       "</div>"
      ],
      "text/plain": [
       "   today  am     I    It  rain  Today    is    to  the  not  watch  premiere  \\\n",
       "C   0.12   0  0.12  0.12  0.12      0  0.12  0.12    0    0      0         0   \n",
       "A   0.17   0  0.17  0.17  0.17      0  0.17  0.17    0    0      0         0   \n",
       "B   0.17   0  0.17  0.17  0.17      0  0.17  0.17    0    0      0         0   \n",
       "\n",
       "   going  season  outside  \n",
       "C   0.12       0        0  \n",
       "A   0.17       0        0  \n",
       "B   0.17       0        0  "
      ]
     },
     "execution_count": 10,
     "metadata": {},
     "output_type": "execute_result"
    }
   ],
   "source": [
    "df5"
   ]
  },
  {
   "cell_type": "markdown",
   "id": "9d48cddb",
   "metadata": {},
   "source": [
    "### TfiVectorizer"
   ]
  },
  {
   "cell_type": "code",
   "execution_count": 16,
   "id": "a9dee468",
   "metadata": {},
   "outputs": [
    {
     "name": "stdout",
     "output_type": "stream",
     "text": [
      "['going rain today.', 'Today going outside.', 'going watch season premiere.']\n"
     ]
    }
   ],
   "source": [
    "Documents1= \"going rain today.\"\n",
    "Documents2= \"Today going outside.\"\n",
    "Documents3= \"going watch season premiere.\"\n",
    "Doc = [Documents1 ,Documents2 , Documents3]\n",
    "print(Doc)"
   ]
  },
  {
   "cell_type": "code",
   "execution_count": 17,
   "id": "332bd947",
   "metadata": {},
   "outputs": [],
   "source": [
    "from sklearn.feature_extraction.text import TfidfVectorizer\n",
    "vectorizer= TfidfVectorizer()\n",
    "X= vectorizer.fit_transform(Doc)"
   ]
  },
  {
   "cell_type": "code",
   "execution_count": 18,
   "id": "188af285",
   "metadata": {},
   "outputs": [
    {
     "data": {
      "text/plain": [
       "{'going': 0,\n",
       " 'rain': 3,\n",
       " 'today': 5,\n",
       " 'outside': 1,\n",
       " 'watch': 6,\n",
       " 'season': 4,\n",
       " 'premiere': 2}"
      ]
     },
     "execution_count": 18,
     "metadata": {},
     "output_type": "execute_result"
    }
   ],
   "source": [
    "vectorizer.vocabulary_    # index"
   ]
  },
  {
   "cell_type": "code",
   "execution_count": 19,
   "id": "18034798",
   "metadata": {},
   "outputs": [
    {
     "name": "stdout",
     "output_type": "stream",
     "text": [
      "Documents1 ['going', 'rain', 'today']\n",
      "Documents2 ['today', 'going', 'outside']\n",
      "Documents3 ['going', 'watch', 'season', 'premiere']\n",
      "Documents transfer [[0.42544054 0.         0.         0.72033345 0.         0.54783215\n",
      "  0.        ]\n",
      " [0.42544054 0.72033345 0.         0.         0.         0.54783215\n",
      "  0.        ]\n",
      " [0.32274454 0.         0.54645401 0.         0.54645401 0.\n",
      "  0.54645401]]\n"
     ]
    }
   ],
   "source": [
    "analyze=vectorizer.build_analyzer()\n",
    "print('Documents1',analyze(Documents1))\n",
    "print('Documents2',analyze(Documents2))\n",
    "print('Documents3',analyze(Documents3))\n",
    "print('Documents transfer',X.toarray())"
   ]
  },
  {
   "cell_type": "code",
   "execution_count": 20,
   "id": "fc9bd193",
   "metadata": {},
   "outputs": [
    {
     "data": {
      "text/plain": [
       "array(['going', 'outside', 'premiere', 'rain', 'season', 'today', 'watch'],\n",
       "      dtype=object)"
      ]
     },
     "execution_count": 20,
     "metadata": {},
     "output_type": "execute_result"
    }
   ],
   "source": [
    "vectorizer.get_feature_names_out()  # sorted order of vocab"
   ]
  },
  {
   "cell_type": "markdown",
   "id": "e67891a1",
   "metadata": {},
   "source": [
    "The output signifies the important words which add context to 3 sentences. These are the words that are important in all 3 sentences and now you can ask questions of whatever nature you like to the machine, stuff like"
   ]
  },
  {
   "cell_type": "code",
   "execution_count": 21,
   "id": "b07ac33f",
   "metadata": {},
   "outputs": [
    {
     "data": {
      "text/plain": [
       "7"
      ]
     },
     "execution_count": 21,
     "metadata": {},
     "output_type": "execute_result"
    }
   ],
   "source": [
    "len(X.toarray()[0])"
   ]
  },
  {
   "cell_type": "code",
   "execution_count": 22,
   "id": "b210d76d",
   "metadata": {},
   "outputs": [
    {
     "data": {
      "text/plain": [
       "array([0.42544054, 0.        , 0.        , 0.72033345, 0.        ,\n",
       "       0.54783215, 0.        ])"
      ]
     },
     "execution_count": 22,
     "metadata": {},
     "output_type": "execute_result"
    }
   ],
   "source": [
    "X.toarray()[0]"
   ]
  },
  {
   "cell_type": "code",
   "execution_count": 23,
   "id": "7791063a",
   "metadata": {},
   "outputs": [
    {
     "name": "stdout",
     "output_type": "stream",
     "text": [
      "['good movie.', 'good snacks.', 'movie snacks good.']\n",
      "Document 1 ['good', 'movie']\n",
      "Document 2 ['good', 'snacks']\n",
      "Document 3 ['movie', 'snacks', 'good']\n",
      "Document transform [[1.         1.28768207 0.        ]\n",
      " [1.         0.         1.28768207]\n",
      " [1.         1.28768207 1.28768207]]\n"
     ]
    },
    {
     "data": {
      "text/plain": [
       "array(['good', 'movie', 'snacks'], dtype=object)"
      ]
     },
     "execution_count": 23,
     "metadata": {},
     "output_type": "execute_result"
    }
   ],
   "source": [
    "# With out Normalization\n",
    "\n",
    "Document1= \"good movie.\"\n",
    "Document2= \"good snacks.\"\n",
    "Document3= \"movie snacks good.\"\n",
    "Doc = [Document1 ,Document2 , Document3]\n",
    "print(Doc)\n",
    "\n",
    "\n",
    "from sklearn.feature_extraction.text import TfidfVectorizer\n",
    "vectorizer = TfidfVectorizer(norm=None)\n",
    "X = vectorizer.fit_transform(Doc)\n",
    "\n",
    "analyze = vectorizer.build_analyzer()\n",
    "print(\"Document 1\",analyze(Document1))\n",
    "print(\"Document 2\",analyze(Document2))\n",
    "print(\"Document 3\",analyze(Document3))\n",
    "print(\"Document transform\",X.toarray())\n",
    "\n",
    "vectorizer.get_feature_names_out()"
   ]
  },
  {
   "cell_type": "code",
   "execution_count": 24,
   "id": "57082c87",
   "metadata": {},
   "outputs": [
    {
     "data": {
      "text/plain": [
       "1.0000000025623583"
      ]
     },
     "execution_count": 24,
     "metadata": {},
     "output_type": "execute_result"
    }
   ],
   "source": [
    "import numpy as np\n",
    "v1=[0.61335554, 0.78980693, 0]\n",
    "np.linalg.norm(v1)"
   ]
  },
  {
   "cell_type": "markdown",
   "id": "9f96dc10",
   "metadata": {},
   "source": [
    "\n",
    "\n",
    "|Sentence|good|movie|Snacks|\n",
    "|--------|-----|---|----|\n",
    "|Sentence-1|1/2*0=0|1/2*loge(3/2)|0|\n",
    "|Sentence-2|1/2*0=0|0|1/2*loge(3/2)|\n",
    "|Sentence-3|1/3*0=0|1/3*loge(3/2)|1/3*loge(3/2)|\n",
    "\n",
    "\n",
    "|Sentence|good|movie|Snacks|\n",
    "|--------|-----|---|----|\n",
    "|Sentence-1|0|1/2*loge(3/2)|0|\n",
    "|Sentence-2|0|0|1/2*loge(3/2)|\n",
    "|Sentence-3|0|1/3*loge(3/2)|1/3*loge(3/2)|"
   ]
  },
  {
   "cell_type": "markdown",
   "id": "50d5be1b",
   "metadata": {},
   "source": [
    "(count_of_term_t_in_d) * ((log ((NUMBER_OF_DOCUMENTS + 1) / (Number_of_documents_where_t_appears +1 )) + 1)\n"
   ]
  },
  {
   "cell_type": "code",
   "execution_count": 25,
   "id": "297d5f98",
   "metadata": {},
   "outputs": [
    {
     "data": {
      "text/plain": [
       "1.0"
      ]
     },
     "execution_count": 25,
     "metadata": {},
     "output_type": "execute_result"
    }
   ],
   "source": [
    "import numpy as np\n",
    "1 * (np.log((3 + 1)/(3+1)) + 1)"
   ]
  },
  {
   "cell_type": "code",
   "execution_count": 26,
   "id": "1cd20fc1",
   "metadata": {},
   "outputs": [
    {
     "data": {
      "text/plain": [
       "1.2876820724517808"
      ]
     },
     "execution_count": 26,
     "metadata": {},
     "output_type": "execute_result"
    }
   ],
   "source": [
    "# Movie\n",
    "1 * (np.log((3 + 1)/(2+1)) + 1)"
   ]
  },
  {
   "cell_type": "code",
   "execution_count": 27,
   "id": "79dbfb4a",
   "metadata": {},
   "outputs": [
    {
     "name": "stdout",
     "output_type": "stream",
     "text": [
      "['good movie.', 'good snacks.', 'movie snacks good.']\n",
      "Document 1 ['good', 'movie']\n",
      "Document 2 ['good', 'snacks']\n",
      "Document 3 ['movie', 'snacks', 'good']\n",
      "Document transform [[0.61335554 0.78980693 0.        ]\n",
      " [0.61335554 0.         0.78980693]\n",
      " [0.48133417 0.61980538 0.61980538]]\n"
     ]
    },
    {
     "data": {
      "text/plain": [
       "array(['good', 'movie', 'snacks'], dtype=object)"
      ]
     },
     "execution_count": 27,
     "metadata": {},
     "output_type": "execute_result"
    }
   ],
   "source": [
    "# With Normalization\n",
    "\n",
    "Document1= \"good movie.\"\n",
    "Document2= \"good snacks.\"\n",
    "Document3= \"movie snacks good.\"\n",
    "Doc = [Document1 ,Document2 , Document3]\n",
    "print(Doc)\n",
    "\n",
    "\n",
    "from sklearn.feature_extraction.text import TfidfVectorizer\n",
    "vectorizer = TfidfVectorizer()\n",
    "X = vectorizer.fit_transform(Doc)\n",
    "\n",
    "analyze = vectorizer.build_analyzer()\n",
    "print(\"Document 1\",analyze(Document1))\n",
    "print(\"Document 2\",analyze(Document2))\n",
    "print(\"Document 3\",analyze(Document3))\n",
    "print(\"Document transform\",X.toarray())\n",
    "\n",
    "vectorizer.get_feature_names_out()"
   ]
  },
  {
   "cell_type": "code",
   "execution_count": 29,
   "id": "c9c8ec5e",
   "metadata": {},
   "outputs": [
    {
     "name": "stdout",
     "output_type": "stream",
     "text": [
      "[0.61335554 0.78980693 0.        ]\n"
     ]
    }
   ],
   "source": [
    "tfidf_vector = [1, 1.28768207, 0 ]\n",
    "\n",
    "tfidf_vector = tfidf_vector / np.linalg.norm(tfidf_vector)\n",
    "\n",
    "print(tfidf_vector)"
   ]
  },
  {
   "cell_type": "code",
   "execution_count": null,
   "id": "6e2926af",
   "metadata": {},
   "outputs": [],
   "source": []
  },
  {
   "cell_type": "code",
   "execution_count": null,
   "id": "a583e6c0",
   "metadata": {},
   "outputs": [],
   "source": []
  },
  {
   "cell_type": "code",
   "execution_count": null,
   "id": "30813c05",
   "metadata": {},
   "outputs": [],
   "source": []
  },
  {
   "cell_type": "code",
   "execution_count": null,
   "id": "9c46be64",
   "metadata": {},
   "outputs": [],
   "source": []
  },
  {
   "cell_type": "code",
   "execution_count": null,
   "id": "399db208",
   "metadata": {},
   "outputs": [],
   "source": []
  },
  {
   "cell_type": "code",
   "execution_count": null,
   "id": "178322d3",
   "metadata": {},
   "outputs": [],
   "source": []
  },
  {
   "cell_type": "code",
   "execution_count": null,
   "id": "98a7f985",
   "metadata": {},
   "outputs": [],
   "source": []
  },
  {
   "cell_type": "code",
   "execution_count": null,
   "id": "5085f1c0",
   "metadata": {},
   "outputs": [],
   "source": []
  }
 ],
 "metadata": {
  "kernelspec": {
   "display_name": "Python 3 (ipykernel)",
   "language": "python",
   "name": "python3"
  },
  "language_info": {
   "codemirror_mode": {
    "name": "ipython",
    "version": 3
   },
   "file_extension": ".py",
   "mimetype": "text/x-python",
   "name": "python",
   "nbconvert_exporter": "python",
   "pygments_lexer": "ipython3",
   "version": "3.11.5"
  }
 },
 "nbformat": 4,
 "nbformat_minor": 5
}
